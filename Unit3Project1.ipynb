{
  "nbformat": 4,
  "nbformat_minor": 0,
  "metadata": {
    "colab": {
      "name": "Unit3Project1.ipynb",
      "provenance": [],
      "collapsed_sections": []
    },
    "kernelspec": {
      "name": "python3",
      "display_name": "Python 3"
    }
  },
  "cells": [
    {
      "cell_type": "code",
      "metadata": {
        "id": "pUiXUxx9kQ23",
        "colab_type": "code",
        "colab": {}
      },
      "source": [
        "import pandas as pd\n",
        "import numpy as np\n",
        "import matplotlib.pyplot as plt\n",
        "import seaborn as sns\n",
        "%matplotlib inline\n",
        "\n",
        "missing_values = ['na']\n",
        "df = pd.read_csv(\n",
        "    'https://raw.githubusercontent.com/CunyLaguardiaDataAnalytics/datasets/master/2014-15_To_2016-17_School-_Level_NYC_Regents_Report_For_All_Variables.csv'\n",
        "    , na_values = missing_values\n",
        "    )\n",
        "\n",
        "#df.head()\n",
        "#df.dtypes\n",
        "#df.columns"
      ],
      "execution_count": 154,
      "outputs": []
    },
    {
      "cell_type": "code",
      "metadata": {
        "id": "hOJBzUSGk0eb",
        "colab_type": "code",
        "colab": {
          "base_uri": "https://localhost:8080/",
          "height": 407
        },
        "outputId": "8fa64b1e-5555-4256-da2e-f5869524b1b7"
      },
      "source": [
        "#focus on a high school network that has four high school locations on Algebra tests\n",
        "sch = df[(df['School Name']=='New Visions Charter High School for Advanced Math')&\n",
        "         (df['Regents Exam']=='Common Core Algebra')]\n",
        "\n",
        "#drop unwanted columns\n",
        "sch = sch.drop(['Number Scoring Below 65', 'Percent Scoring Below 65', 'Number Scoring 65 or Above',\n",
        "                'Percent Scoring 65 or Above', 'Number Scoring 80 or Above', 'Percent Scoring 80 or Above',\n",
        "                'Number Scoring CR', 'Percent Scoring CR'], axis=1)\n",
        "\n",
        "#drop satisfactory(s) rows as they are incomparable\n",
        "sch = sch[(sch['Mean Score']!='s')]\n",
        "\n",
        "#drop duplicates\n",
        "sch.drop_duplicates(keep='first',inplace=True)\n",
        "\n",
        "#rename school names based on their location\n",
        "sch.loc[df['School DBN']=='84X539','School Name'] = 'A.M.S.'\n",
        "sch.loc[df['School DBN']=='84X202','School Name'] = 'A.M.S. II'\n",
        "sch.loc[df['School DBN']=='84K738','School Name'] = 'A.M.S. III'\n",
        "sch.loc[df['School DBN']=='84Q320','School Name'] = 'A.M.S. IV'\n",
        "\n",
        "#create total score per class\n",
        "sch['Mean Score'] = pd.to_numeric(sch['Mean Score'], errors = 'coerce')  #convert Mean Score from object to numeric\n",
        "sch['Total Score'] = sch['Total Tested'] * sch['Mean Score']\n",
        "\n",
        "#grouping by year and schools\n",
        "schgrp = sch.groupby(['School Name','Year'])['Total Tested','Total Score'].sum().reset_index()  #reset_index to make school name reappears on each row\n",
        "\n",
        "#create total mean\n",
        "schgrp['Total Mean'] = schgrp['Total Score'] / schgrp['Total Tested']\n",
        "\n",
        "schgrp"
      ],
      "execution_count": 155,
      "outputs": [
        {
          "output_type": "stream",
          "text": [
            "/usr/local/lib/python3.6/dist-packages/ipykernel_launcher.py:27: FutureWarning: Indexing with multiple keys (implicitly converted to a tuple of keys) will be deprecated, use a list instead.\n"
          ],
          "name": "stderr"
        },
        {
          "output_type": "execute_result",
          "data": {
            "text/html": [
              "<div>\n",
              "<style scoped>\n",
              "    .dataframe tbody tr th:only-of-type {\n",
              "        vertical-align: middle;\n",
              "    }\n",
              "\n",
              "    .dataframe tbody tr th {\n",
              "        vertical-align: top;\n",
              "    }\n",
              "\n",
              "    .dataframe thead th {\n",
              "        text-align: right;\n",
              "    }\n",
              "</style>\n",
              "<table border=\"1\" class=\"dataframe\">\n",
              "  <thead>\n",
              "    <tr style=\"text-align: right;\">\n",
              "      <th></th>\n",
              "      <th>School Name</th>\n",
              "      <th>Year</th>\n",
              "      <th>Total Tested</th>\n",
              "      <th>Total Score</th>\n",
              "      <th>Total Mean</th>\n",
              "    </tr>\n",
              "  </thead>\n",
              "  <tbody>\n",
              "    <tr>\n",
              "      <th>0</th>\n",
              "      <td>A.M.S.</td>\n",
              "      <td>2015</td>\n",
              "      <td>569</td>\n",
              "      <td>34505.6</td>\n",
              "      <td>60.642531</td>\n",
              "    </tr>\n",
              "    <tr>\n",
              "      <th>1</th>\n",
              "      <td>A.M.S.</td>\n",
              "      <td>2016</td>\n",
              "      <td>1057</td>\n",
              "      <td>67674.6</td>\n",
              "      <td>64.025166</td>\n",
              "    </tr>\n",
              "    <tr>\n",
              "      <th>2</th>\n",
              "      <td>A.M.S.</td>\n",
              "      <td>2017</td>\n",
              "      <td>1058</td>\n",
              "      <td>71294.6</td>\n",
              "      <td>67.386200</td>\n",
              "    </tr>\n",
              "    <tr>\n",
              "      <th>3</th>\n",
              "      <td>A.M.S. II</td>\n",
              "      <td>2015</td>\n",
              "      <td>690</td>\n",
              "      <td>42825.9</td>\n",
              "      <td>62.066522</td>\n",
              "    </tr>\n",
              "    <tr>\n",
              "      <th>4</th>\n",
              "      <td>A.M.S. II</td>\n",
              "      <td>2016</td>\n",
              "      <td>1555</td>\n",
              "      <td>108179.0</td>\n",
              "      <td>69.568489</td>\n",
              "    </tr>\n",
              "    <tr>\n",
              "      <th>5</th>\n",
              "      <td>A.M.S. II</td>\n",
              "      <td>2017</td>\n",
              "      <td>1003</td>\n",
              "      <td>70393.6</td>\n",
              "      <td>70.183051</td>\n",
              "    </tr>\n",
              "    <tr>\n",
              "      <th>6</th>\n",
              "      <td>A.M.S. III</td>\n",
              "      <td>2015</td>\n",
              "      <td>655</td>\n",
              "      <td>39932.4</td>\n",
              "      <td>60.965496</td>\n",
              "    </tr>\n",
              "    <tr>\n",
              "      <th>7</th>\n",
              "      <td>A.M.S. III</td>\n",
              "      <td>2016</td>\n",
              "      <td>825</td>\n",
              "      <td>57050.6</td>\n",
              "      <td>69.152242</td>\n",
              "    </tr>\n",
              "    <tr>\n",
              "      <th>8</th>\n",
              "      <td>A.M.S. III</td>\n",
              "      <td>2017</td>\n",
              "      <td>702</td>\n",
              "      <td>49309.9</td>\n",
              "      <td>70.242023</td>\n",
              "    </tr>\n",
              "    <tr>\n",
              "      <th>9</th>\n",
              "      <td>A.M.S. IV</td>\n",
              "      <td>2016</td>\n",
              "      <td>625</td>\n",
              "      <td>41918.3</td>\n",
              "      <td>67.069280</td>\n",
              "    </tr>\n",
              "    <tr>\n",
              "      <th>10</th>\n",
              "      <td>A.M.S. IV</td>\n",
              "      <td>2017</td>\n",
              "      <td>1021</td>\n",
              "      <td>65923.5</td>\n",
              "      <td>64.567581</td>\n",
              "    </tr>\n",
              "  </tbody>\n",
              "</table>\n",
              "</div>"
            ],
            "text/plain": [
              "   School Name  Year  Total Tested  Total Score  Total Mean\n",
              "0       A.M.S.  2015           569      34505.6   60.642531\n",
              "1       A.M.S.  2016          1057      67674.6   64.025166\n",
              "2       A.M.S.  2017          1058      71294.6   67.386200\n",
              "3    A.M.S. II  2015           690      42825.9   62.066522\n",
              "4    A.M.S. II  2016          1555     108179.0   69.568489\n",
              "5    A.M.S. II  2017          1003      70393.6   70.183051\n",
              "6   A.M.S. III  2015           655      39932.4   60.965496\n",
              "7   A.M.S. III  2016           825      57050.6   69.152242\n",
              "8   A.M.S. III  2017           702      49309.9   70.242023\n",
              "9    A.M.S. IV  2016           625      41918.3   67.069280\n",
              "10   A.M.S. IV  2017          1021      65923.5   64.567581"
            ]
          },
          "metadata": {
            "tags": []
          },
          "execution_count": 155
        }
      ]
    },
    {
      "cell_type": "code",
      "metadata": {
        "id": "mCeDh9TrEwNh",
        "colab_type": "code",
        "colab": {
          "base_uri": "https://localhost:8080/",
          "height": 310
        },
        "outputId": "17997fa6-885c-4152-949a-6ac634d67a42"
      },
      "source": [
        "#plot graph for test mean by school by year\n",
        "plt.title('New Visions Charter High School for Advanced Math and Science\\nCommon Core Algebra Test Score by School')\n",
        "g = sns.pointplot(x='Year', y='Total Mean', hue='School Name', data=schgrp)"
      ],
      "execution_count": 156,
      "outputs": [
        {
          "output_type": "display_data",
          "data": {
            "image/png": "[encoded data removed]",
            "text/plain": [
              "<Figure size 432x288 with 1 Axes>"
            ]
          },
          "metadata": {
            "tags": [],
            "needs_background": "light"
          }
        }
      ]
    }
  ]
}