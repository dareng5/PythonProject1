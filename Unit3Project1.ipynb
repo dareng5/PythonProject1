{
  "nbformat": 4,
  "nbformat_minor": 0,
  "metadata": {
    "colab": {
      "name": "Unit3Project1.ipynb",
      "provenance": [],
      "collapsed_sections": []
    },
    "kernelspec": {
      "name": "python3",
      "display_name": "Python 3"
    }
  },
  "cells": [
    {
      "cell_type": "code",
      "metadata": {
        "id": "pUiXUxx9kQ23",
        "colab_type": "code",
        "colab": {}
      },
      "source": [
        "import pandas as pd\n",
        "import numpy as np\n",
        "import matplotlib.pyplot as plt\n",
        "import seaborn as sns\n",
        "%matplotlib inline\n",
        "\n",
        "missing_values = ['na']\n",
        "df = pd.read_csv(\n",
        "    'https://raw.githubusercontent.com/CunyLaguardiaDataAnalytics/datasets/master/2014-15_To_2016-17_School-_Level_NYC_Regents_Report_For_All_Variables.csv'\n",
        "    , na_values = missing_values\n",
        "    )\n",
        "\n",
        "#df.head()\n",
        "#df.dtypes\n",
        "#f.columns"
      ],
      "execution_count": null,
      "outputs": []
    },
    {
      "cell_type": "code",
      "metadata": {
        "id": "hOJBzUSGk0eb",
        "colab_type": "code",
        "colab": {}
      },
      "source": [
        "#focus on a high school network that has four high school locations on Algebra tests\n",
        "sch = df[(df['School Name']=='New Visions Charter High School for Advanced Math')&\n",
        "         (df['Regents Exam']=='Common Core Algebra')]\n",
        "\n",
        "#drop unwanted columns\n",
        "sch = sch.drop(['Number Scoring Below 65', 'Percent Scoring Below 65', 'Number Scoring 65 or Above',\n",
        "                'Percent Scoring 65 or Above', 'Number Scoring 80 or Above', 'Percent Scoring 80 or Above',\n",
        "                'Number Scoring CR', 'Percent Scoring CR'], axis=1)\n",
        "\n",
        "#drop satisfactory(s) rows as they are incomparable\n",
        "sch = sch[(sch['Mean Score']!='s')]\n",
        "\n",
        "#drop duplicates\n",
        "sch.drop_duplicates(keep='first',inplace=True)\n",
        "\n",
        "#rename school names based on their location\n",
        "sch.loc[df['School DBN']=='84X539','School Name'] = 'A.M.S.'\n",
        "sch.loc[df['School DBN']=='84X202','School Name'] = 'A.M.S. II'\n",
        "sch.loc[df['School DBN']=='84K738','School Name'] = 'A.M.S. III'\n",
        "sch.loc[df['School DBN']=='84Q320','School Name'] = 'A.M.S. IV'\n",
        "\n",
        "#create total score per class\n",
        "sch['Mean Score'] = pd.to_numeric(sch['Mean Score'], errors = 'coerce')  #convert Mean Score from object to numeric\n",
        "sch['Total Score'] = sch['Total Tested'] * sch['Mean Score']\n",
        "\n",
        "#grouping by year and schools\n",
        "schgrp = sch.groupby(['School Name','Year'])['Total Tested','Total Score'].sum().reset_index()  #reset_index to make school name reappears on each row\n",
        "\n",
        "#create total mean\n",
        "schgrp['Total Mean'] = schgrp['Total Score'] / schgrp['Total Tested']\n",
        "\n",
        "schgrp"
      ],
      "execution_count": null,
      "outputs": []
    },
    {
      "cell_type": "code",
      "metadata": {
        "id": "mCeDh9TrEwNh",
        "colab_type": "code",
        "colab": {}
      },
      "source": [
        "#plot graph for test mean by school by year\n",
        "plt.title('New Visions Charter High School for Advanced Math and Science\\nCommon Core Algebra Test Score by School')\n",
        "g = sns.pointplot(x='Year', y='Total Mean', hue='School Name', data=schgrp)"
      ],
      "execution_count": null,
      "outputs": []
    }
  ]
}