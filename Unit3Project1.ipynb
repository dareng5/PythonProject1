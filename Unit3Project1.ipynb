{
  "nbformat": 4,
  "nbformat_minor": 0,
  "metadata": {
    "colab": {
      "name": "Unit3Project1.ipynb",
      "provenance": [],
      "collapsed_sections": [],
      "authorship_tag": "ABX9TyODA9+2ASBw0inuBln+Db3j",
      "include_colab_link": true
    },
    "kernelspec": {
      "name": "python3",
      "display_name": "Python 3"
    }
  },
  "cells": [
    {
      "cell_type": "markdown",
      "metadata": {
        "id": "view-in-github",
        "colab_type": "text"
      },
      "source": [
        "<a href=\"https://colab.research.google.com/github/dareng5/PythonProject1/blob/master/Unit3Project1.ipynb\" target=\"_parent\"><img src=\"https://colab.research.google.com/assets/colab-badge.svg\" alt=\"Open In Colab\"/></a>"
      ]
    },
    {
      "cell_type": "code",
      "metadata": {
        "id": "pUiXUxx9kQ23",
        "colab_type": "code",
        "colab": {}
      },
      "source": [
        "import pandas as pd\n",
        "import numpy as np\n",
        "import matplotlib.pyplot as plt\n",
        "import seaborn as sns\n",
        "%matplotlib inline\n",
        "import matplotlib.ticker as mtick\n",
        "\n",
        "missing_values = ['na']\n",
        "df = pd.read_csv(\n",
        "    'https://raw.githubusercontent.com/CunyLaguardiaDataAnalytics/datasets/master/2014-15_To_2016-17_School-_Level_NYC_Regents_Report_For_All_Variables.csv'\n",
        "    , na_values = missing_values\n",
        "    )\n",
        "\n",
        "#df.head()\n",
        "#df.dtypes\n",
        "#df.columns"
      ],
      "execution_count": null,
      "outputs": []
    },
    {
      "cell_type": "code",
      "metadata": {
        "id": "hOJBzUSGk0eb",
        "colab_type": "code",
        "colab": {}
      },
      "source": [
        "#select and wrangling data\n",
        "\n",
        "#focus on a high school network that has four high school locations on Algebra tests\n",
        "sch = df[(df['School Name']=='New Visions Charter High School for Advanced Math')&\n",
        "         (df['Regents Exam']=='Common Core Algebra')]\n",
        "\n",
        "#drop unwanted columns\n",
        "sch = sch.drop(['Number Scoring Below 65', 'Percent Scoring Below 65', 'Number Scoring 65 or Above',\n",
        "                'Percent Scoring 80 or Above', 'Number Scoring CR', 'Percent Scoring CR'], axis=1)\n",
        "\n",
        "#drop satisfactory(s) rows as they are incomparable\n",
        "sch = sch[(sch['Mean Score']!='s')]\n",
        "\n",
        "#drop duplicates\n",
        "sch.drop_duplicates(keep='first',inplace=True)\n",
        "\n",
        "#rename school names based on their location\n",
        "sch.loc[df['School DBN']=='84X539','School Name'] = 'A.M.S.'\n",
        "sch.loc[df['School DBN']=='84X202','School Name'] = 'A.M.S. II'\n",
        "sch.loc[df['School DBN']=='84K738','School Name'] = 'A.M.S. III'\n",
        "sch.loc[df['School DBN']=='84Q320','School Name'] = 'A.M.S. IV'\n",
        "\n",
        "#convert object to numeric\n",
        "sch['Mean Score'] = pd.to_numeric(sch['Mean Score'], errors = 'coerce')\n",
        "sch['Percent Scoring 65 or Above'] = pd.to_numeric(sch['Percent Scoring 65 or Above'], errors = 'coerce')\n",
        "sch['Number Scoring 80 or Above'] = pd.to_numeric(sch['Number Scoring 80 or Above'], errors = 'coerce')\n",
        "\n",
        "#create total score per class\n",
        "sch['Total Score'] = sch['Total Tested'] * sch['Mean Score']\n",
        "\n",
        "#grouping by year and schools and reset_index to make school name reappears on each row\n",
        "schgrp = sch.groupby(['School Name','Year'])['Total Tested','Total Score','Number Scoring 80 or Above'].sum().reset_index()\n",
        "\n",
        "#create new measures on school level\n",
        "schgrp['Total Mean'] = schgrp['Total Score'] / schgrp['Total Tested']\n",
        "schgrp['Total Percent Scoring 80 or Above'] = schgrp['Number Scoring 80 or Above'] / schgrp['Total Tested']\n",
        "\n",
        "schgrp"
      ],
      "execution_count": null,
      "outputs": []
    },
    {
      "cell_type": "code",
      "metadata": {
        "id": "mCeDh9TrEwNh",
        "colab_type": "code",
        "colab": {}
      },
      "source": [
        "#plot graph\n",
        "\n",
        "#on class level\n",
        "#mean score for each class\n",
        "c1 = sns.violinplot(x='Year', y='Mean Score', hue='School Name', hue_order=['A.M.S.','A.M.S. II','A.M.S. III','A.M.S. IV'], data=sch)\n",
        "c1.legend(loc='center left', bbox_to_anchor=(1.0, 0.5), ncol=1)\n",
        "plt.title('New Visions Charter High School for Advanced Math and Science\\nCommon Core Algebra Test Score')\n",
        "plt.ylabel('Mean Score by Class\\n(Class Size Varies)')\n",
        "plt.show(c1)\n",
        "\n",
        "#percentage scoring 65 or above for each class\n",
        "c2 = sns.swarmplot(x='Year', y='Percent Scoring 65 or Above', hue='School Name', hue_order=['A.M.S.','A.M.S. II','A.M.S. III','A.M.S. IV'], data=sch)\n",
        "c2.legend(loc='center left', bbox_to_anchor=(1.0, 0.5), ncol=1)\n",
        "plt.title('New Visions Charter High School for Advanced Math and Science\\nCommon Core Algebra Test Score')\n",
        "plt.ylabel('Percentage Scoring 65 or Above by Class\\n(Class Size Varies)')\n",
        "plt.show(c2)\n",
        "\n",
        "#on school level\n",
        "#mean score for each school\n",
        "g1 = sns.pointplot(x='Year', y='Total Mean', hue='School Name', data=schgrp)\n",
        "plt.title('New Visions Charter High School for Advanced Math and Science\\nCommon Core Algebra Test Score')\n",
        "plt.ylabel('Mean Score')\n",
        "plt.show(g1)\n",
        "\n",
        "#percenrage scoring 80 or above for each school\n",
        "g2 = sns.pointplot(x='Year', y='Total Percent Scoring 80 or Above', hue='School Name', data=schgrp)\n",
        "g2.yaxis.set_major_formatter(mtick.PercentFormatter(1.0))\n",
        "plt.title('New Visions Charter High School for Advanced Math and Science\\nCommon Core Algebra Test Score')\n",
        "plt.ylabel('Percentage Scoring 80 or Above')\n",
        "plt.show(g2)\n"
      ],
      "execution_count": null,
      "outputs": []
    }
  ]
}